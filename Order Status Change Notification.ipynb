{
 "cells": [
  {
   "cell_type": "code",
   "execution_count": 9,
   "id": "f95ad71b",
   "metadata": {},
   "outputs": [],
   "source": [
    "import os\n",
    "import time\n",
    "import datetime\n",
    "import requests\n",
    "import pandas as pd\n",
    "import numpy as np"
   ]
  },
  {
   "cell_type": "code",
   "execution_count": 6,
   "id": "30e65cd9",
   "metadata": {},
   "outputs": [],
   "source": [
    "clientcode = \"\"\n",
    "password = \"\"\n",
    "api_key = \"\"\n",
    "secret_key = \"\""
   ]
  },
  {
   "cell_type": "markdown",
   "id": "6c5b54e1",
   "metadata": {},
   "source": [
    "### `User Order Book`"
   ]
  },
  {
   "cell_type": "code",
   "execution_count": 4,
   "id": "2be3fc78",
   "metadata": {},
   "outputs": [],
   "source": [
    "user_order_book_path = f\"User_orderbook_{datetime.datetime.now().date()}.csv\""
   ]
  },
  {
   "cell_type": "code",
   "execution_count": 12,
   "id": "57ddb68c",
   "metadata": {},
   "outputs": [],
   "source": [
    "if os.path.exists(user_order_book_path):\n",
    "    df_Userorder = pd.read_csv(user_order_book_path)\n",
    "else:\n",
    "    col = ['Unique_Trade_No','variety','tradingsymbol','symboltoken','transactiontype','exchange','ordertype','producttype','duration','price','squareoff','stoploss','quantity','status','Client_code','time']\n",
    "    df_Userorder = pd.DataFrame(columns=col)\n",
    "    df_Userorder.to_csv(user_order_book_path,index=False)"
   ]
  },
  {
   "cell_type": "markdown",
   "id": "f72b2e79",
   "metadata": {},
   "source": [
    "## `Telegram bot` for notification "
   ]
  },
  {
   "cell_type": "code",
   "execution_count": 13,
   "id": "e4619668",
   "metadata": {},
   "outputs": [],
   "source": [
    "def telegram_bot(message):\n",
    "    x = 0\n",
    "    while x == 0:\n",
    "        token = '' # input token \n",
    "        userID = '' # input userID\n",
    "        url = f'https://api.telegram.org/bot{token}/sendMessage'\n",
    "        data = {'chat_id':userID,'text':message}\n",
    "\n",
    "        response = requests.post(url,data)\n",
    "        \n",
    "        print(response.status_code)\n",
    "        print(message)\n",
    "        if response.status_code != 200:\n",
    "            print(\"sending again\")\n",
    "            time.sleep(0.5)\n",
    "            continue\n",
    "        x = x + 1"
   ]
  },
  {
   "cell_type": "markdown",
   "id": "99f797d4",
   "metadata": {},
   "source": [
    "## `User Login Models`"
   ]
  },
  {
   "cell_type": "code",
   "execution_count": null,
   "id": "4821f4c6",
   "metadata": {},
   "outputs": [],
   "source": [
    "def login(clientcode,password,api_key):\n",
    "    try:\n",
    "        data = {\n",
    "            \"clientcode\":clientcode,\n",
    "            \"password\":password\n",
    "        }\n",
    "\n",
    "        headers = {\n",
    "            'Content-Type': 'application/json',\n",
    "            'Accept': 'application/json',\n",
    "            'X-UserType': 'USER',\n",
    "            'X-SourceID': 'WEB',\n",
    "            'X-ClientLocalIP': 'CLIENT_LOCAL_IP',\n",
    "            'X-ClientPublicIP': 'CLIENT_PUBLIC_IP',\n",
    "            'X-MACAddress': 'MAC_ADDRESS',\n",
    "            'X-PrivateKey': str(api_key)\n",
    "        }\n",
    "\n",
    "        login_url = \"https://apiconnect.angelbroking.com/rest/auth/angelbroking/user/v1/loginByPassword\"\n",
    "\n",
    "        req = requests.post(login_url,json=data,headers=headers)\n",
    "        if req.status_code == 200:\n",
    "            print(req.json())\n",
    "            json_data = req.json()\n",
    "            if json_data['status'] == True:\n",
    "                return req.json().get('data').get('jwtToken')\n",
    "            else:\n",
    "\n",
    "                return json_data\n",
    "    except Exception as e:\n",
    "        print(e)"
   ]
  },
  {
   "cell_type": "code",
   "execution_count": null,
   "id": "e5fc10ee",
   "metadata": {},
   "outputs": [],
   "source": [
    "Access_token = login(clientcode,password,api_key)"
   ]
  },
  {
   "cell_type": "code",
   "execution_count": null,
   "id": "464467fe",
   "metadata": {},
   "outputs": [],
   "source": [
    "Access_token"
   ]
  },
  {
   "cell_type": "markdown",
   "id": "8e8294f1",
   "metadata": {},
   "source": [
    "## `Please Order`"
   ]
  },
  {
   "cell_type": "code",
   "execution_count": null,
   "id": "d90a7abf",
   "metadata": {},
   "outputs": [],
   "source": [
    "headers= { \n",
    "    'Authorization': 'Bearer '+str(Access_token), \n",
    "    'Content-Type': 'application/json', \n",
    "    'Accept': 'application/json', \n",
    "    'X-UserType': 'USER', \n",
    "    'X-SourceID': 'WEB', \n",
    "    'X-ClientLocalIP': 'CLIENT_LOCAL_IP', \n",
    "    'X-ClientPublicIP': 'CLIENT_PUBLIC_IP', \n",
    "    'X-MACAddress': 'MAC_ADDRESS', \n",
    "    'X-PrivateKey': str(api_key)\n",
    "}"
   ]
  },
  {
   "cell_type": "code",
   "execution_count": null,
   "id": "eec662a1",
   "metadata": {},
   "outputs": [],
   "source": [
    "data = {\n",
    "    \"variety\":\"NORMAL\",\n",
    "    \"tradingsymbol\":\"SBIN-EQ\",\n",
    "    \"symboltoken\":\"3045\",\n",
    "    \"transactiontype\":\"BUY\",\n",
    "    \"exchange\":\"NSE\",\n",
    "    \"ordertype\":\"MARKET\",\n",
    "    \"producttype\":\"INTRADAY\",\n",
    "    \"duration\":\"DAY\",\n",
    "    \"price\":\"194.50\",\n",
    "    \"squareoff\":\"0\",\n",
    "    \"stoploss\":\"0\",\n",
    "    \"quantity\":\"1\"\n",
    "}"
   ]
  },
  {
   "cell_type": "code",
   "execution_count": null,
   "id": "fbaf435a",
   "metadata": {},
   "outputs": [],
   "source": [
    "def place_order(headers,payload):\n",
    "    try:\n",
    "        url_angel_order = 'https://apiconnect.angelbroking.com/rest/secure/angelbroking/order/v1/placeOrder'\n",
    "        response = requests.post(url_angel_order, json = payload, headers=headers)\n",
    "        if response.status_code == 200:\n",
    "            df_new_trade=pd.DataFrame(payload.values(),index = payload.keys()).T\n",
    "            print(df_new_trade)\n",
    "            print(response.json())\n",
    "            df_new_trade['order_id'] = int(response.json().get('data').get(\"orderid\"))\n",
    "            \n",
    "            df_tradesheet = df_tradesheet.append(df_new_trade,ignore_index = True)\n",
    "            df_tradesheet.to_csv(user_order_book_path, index=False)\n",
    "    except Exception as e:\n",
    "        print(e)"
   ]
  },
  {
   "cell_type": "code",
   "execution_count": null,
   "id": "747836f6",
   "metadata": {},
   "outputs": [],
   "source": [
    "# place_order(headers,data)"
   ]
  },
  {
   "cell_type": "code",
   "execution_count": null,
   "id": "8d1ab923",
   "metadata": {},
   "outputs": [],
   "source": [
    "def update_orderstatus(order_id,status,text):\n",
    "    \n",
    "    df = pd.read_csv(user_order_book_path.astype('str')\n",
    "    if status == \"rejected\" or status == \"cancelled\":\n",
    "        df.loc[(df['order_id'] == order_id),'Algo_checkflag'] = \"No\"\n",
    "        \n",
    "    df.loc[(df['order_id'] == order_id),'Algo_Runcount'] = status\n",
    "    df.loc[(df['order_id'] == order_id),'Algo_updatetime'] = datetime.datetime.now().strftime('%d-%m-%Y %H:%M:%S')\n",
    "    df.loc[(df['order_id'] == order_id),'reasons'] = text\n",
    "                     \n",
    "    \n",
    "\n",
    "    return df.to_csv(user_order_book_path,index=False)"
   ]
  },
  {
   "cell_type": "code",
   "execution_count": null,
   "id": "0d6a8d7e",
   "metadata": {},
   "outputs": [],
   "source": [
    "start_time = datetime.time(9,15)\n",
    "end_time = datetime.time(15,45,4)"
   ]
  },
  {
   "cell_type": "markdown",
   "id": "f63801c1",
   "metadata": {},
   "source": [
    "# `Main Algo`"
   ]
  },
  {
   "cell_type": "code",
   "execution_count": null,
   "id": "c627c602",
   "metadata": {},
   "outputs": [],
   "source": [
    "while datetime.datetime.now().time() > start_time and  datetime.datetime.now().time() < end_time:\n",
    "    try:\n",
    "        time.sleep(1)\n",
    "        \n",
    "        df_alluserorder = pd.read_csv(user_order_book_path)\n",
    "        df_userorder = df_alluserorder[df_alluserorder['Algo_checkflag'] !='No']\n",
    "        \n",
    "        if len(df_userorder) > 0:\n",
    "            df_userorder = df_userorder.reset_index(drop=True)\n",
    "            order_book_url = \"https://apiconnect.angelbroking.com/rest/secure/angelbroking/order/v1/getOrderBook\"\n",
    "            status_req = requesta.get(order_book_url,headers=headers)\n",
    "            \n",
    "            if status_req.status_code == 200:\n",
    "                df_status = pd.read_csv(status_req.json()['data'])\n",
    "                df_order_update = df_status[df_status['orderid'].isin(df_userorder['order_id'].to_list())]\n",
    "                df_order_update = df_order_update.reset_index(drop=True)\n",
    "\n",
    "            for i , row in df_order_update.iterrows():\n",
    "                if row['orderid'] == check_order['order_id'].iloc[i]:\n",
    "                    if row['orderstatus'] != checkorder['orderstatus'].iloc[i]:\n",
    "                        update_orderstatus(str(row['orderid']),row['orderstatus'],row['text'])\n",
    "                        \n",
    "                        # Send order to telegram \n",
    "                        # msg = str(row.to_dict())\n",
    "                        # telegram_bot(msg)\n",
    "                        \n",
    "    except Exception as e:\n",
    "        print(e)"
   ]
  }
 ],
 "metadata": {
  "kernelspec": {
   "display_name": "Python 3 (ipykernel)",
   "language": "python",
   "name": "python3"
  },
  "language_info": {
   "codemirror_mode": {
    "name": "ipython",
    "version": 3
   },
   "file_extension": ".py",
   "mimetype": "text/x-python",
   "name": "python",
   "nbconvert_exporter": "python",
   "pygments_lexer": "ipython3",
   "version": "3.9.7"
  }
 },
 "nbformat": 4,
 "nbformat_minor": 5
}
